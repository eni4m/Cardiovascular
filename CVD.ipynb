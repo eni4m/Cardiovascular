{
 "cells": [
  {
   "cell_type": "code",
   "execution_count": 13,
   "metadata": {
    "extensions": {
     "jupyter_dashboards": {
      "version": 1,
      "views": {
       "default_view": {
        "hidden": true
       }
      }
     }
    }
   },
   "outputs": [],
   "source": [
    "import warnings\n",
    "warnings.filterwarnings('ignore')\n",
    "\n",
    "import ipywidgets as widgets\n",
    "from IPython.display import display, clear_output"
   ]
  },
  {
   "cell_type": "code",
   "execution_count": 14,
   "metadata": {
    "extensions": {
     "jupyter_dashboards": {
      "version": 1,
      "views": {
       "default_view": {
        "hidden": true
       }
      }
     }
    }
   },
   "outputs": [],
   "source": [
    "#!jupyter nbextension enable --py widgetsnbextension --sys-prefix\n",
    "#!jupyter serverextension enable voila --sys-prefix"
   ]
  },
  {
   "cell_type": "markdown",
   "metadata": {
    "extensions": {
     "jupyter_dashboards": {
      "version": 1,
      "views": {
       "default_view": {
        "col": 4,
        "height": 4,
        "row": 0,
        "width": 5
       }
      }
     }
    }
   },
   "source": [
    "# Cardiovascular disease"
   ]
  },
  {
   "cell_type": "markdown",
   "metadata": {
    "extensions": {
     "jupyter_dashboards": {
      "version": 1,
      "views": {
       "default_view": {
        "col": 3,
        "height": 8,
        "row": 13,
        "width": 6
       }
      }
     }
    }
   },
   "source": [
    "### Cardiovascular disease (CVD) is a general term for conditions affecting the heart or blood vessels.\n",
    "It's usually associated with a build-up of fatty deposits inside the arteries (atherosclerosis) and an increased risk of blood clots.\n",
    " \n",
    "It can also be associated with damage to arteries in organs such as the brain, heart, kidneys and eyes.\n",
    "\n",
    "Every day, **17** people die from cardiovascular disease (heart diseases and stroke) in Singapore. Cardiovascular disease accounted for **29.3%** of all deaths in 2019. This means that almost 1 out of 3 deaths in Singapore, is due to heart diseases or stroke."
   ]
  },
  {
   "cell_type": "code",
   "execution_count": 15,
   "metadata": {
    "extensions": {
     "jupyter_dashboards": {
      "version": 1,
      "views": {
       "default_view": {
        "col": 3,
        "height": 9,
        "row": 4,
        "width": 6
       }
      }
     }
    }
   },
   "outputs": [
    {
     "data": {
      "application/vnd.jupyter.widget-view+json": {
       "model_id": "48fa20deda5e49318de4b9d4de3bfe19",
       "version_major": 2,
       "version_minor": 0
      },
      "text/plain": [
       "Image(value=b'\\xff\\xd8\\xff\\xe0\\x00\\x10JFIF\\x00\\x01\\x01\\x01\\x00x\\x00x\\x00\\x00\\xff\\xdb\\x00\\x84\\x00\\x04\\x04\\x04\\x…"
      ]
     },
     "metadata": {},
     "output_type": "display_data"
    }
   ],
   "source": [
    "file = open(\"CVDimage.jpg\", \"rb\")\n",
    "image = file.read()\n",
    "widgets.Image(\n",
    "    value=image,\n",
    "    format='jpg',\n",
    "    width=500,\n",
    "    height=300,\n",
    ")"
   ]
  },
  {
   "cell_type": "code",
   "execution_count": 16,
   "metadata": {
    "extensions": {
     "jupyter_dashboards": {
      "version": 1,
      "views": {
       "default_view": {
        "col": 0,
        "height": 10,
        "row": 21,
        "width": 7
       }
      }
     }
    }
   },
   "outputs": [
    {
     "data": {
      "application/vnd.jupyter.widget-view+json": {
       "model_id": "0afe2007cd4948db92a62ba2f728469f",
       "version_major": 2,
       "version_minor": 0
      },
      "text/plain": [
       "Image(value=b'\\xff\\xd8\\xff\\xe1\\x13@Exif\\x00\\x00MM\\x00*\\x00\\x00\\x00\\x08\\x00\\x07\\x01\\x12\\x00\\x03\\x00\\x00\\x00\\x01…"
      ]
     },
     "metadata": {},
     "output_type": "display_data"
    }
   ],
   "source": [
    "file = open(\"Types-of-cardiovascular-1.jpg\", \"rb\")\n",
    "image = file.read()\n",
    "widgets.Image(\n",
    "    value=image,\n",
    "    format='jpg',\n",
    "    width=600,\n",
    "    height=300,\n",
    ")"
   ]
  },
  {
   "cell_type": "code",
   "execution_count": 17,
   "metadata": {
    "extensions": {
     "jupyter_dashboards": {
      "version": 1,
      "views": {
       "default_view": {
        "col": 5,
        "height": 12,
        "row": 31,
        "width": 7
       }
      }
     }
    }
   },
   "outputs": [
    {
     "data": {
      "application/vnd.jupyter.widget-view+json": {
       "model_id": "a4654e94dd1b461d8c1f9efd48501950",
       "version_major": 2,
       "version_minor": 0
      },
      "text/plain": [
       "Image(value=b'\\xff\\xd8\\xff\\xe1\\x12\\'Exif\\x00\\x00MM\\x00*\\x00\\x00\\x00\\x08\\x00\\x07\\x01\\x12\\x00\\x03\\x00\\x00\\x00\\x0…"
      ]
     },
     "metadata": {},
     "output_type": "display_data"
    }
   ],
   "source": [
    "file = open(\"Causes-of-CVD-1.jpg\", \"rb\")\n",
    "image = file.read()\n",
    "widgets.Image(\n",
    "    value=image,\n",
    "    format='jpg',\n",
    "    width=600,\n",
    "    height=300,\n",
    ")"
   ]
  },
  {
   "cell_type": "code",
   "execution_count": 18,
   "metadata": {
    "extensions": {
     "jupyter_dashboards": {
      "version": 1,
      "views": {
       "default_view": {
        "col": 0,
        "height": 20,
        "row": 43,
        "width": 7
       }
      }
     }
    }
   },
   "outputs": [
    {
     "data": {
      "application/vnd.jupyter.widget-view+json": {
       "model_id": "f8e2138476294f0f9d5902f6ebb4f559",
       "version_major": 2,
       "version_minor": 0
      },
      "text/plain": [
       "Image(value=b'\\xff\\xd8\\xff\\xe1\\x17\\x04Exif\\x00\\x00MM\\x00*\\x00\\x00\\x00\\x08\\x00\\x07\\x01\\x12\\x00\\x03\\x00\\x00\\x00\\…"
      ]
     },
     "metadata": {},
     "output_type": "display_data"
    }
   ],
   "source": [
    "file = open(\"cardiovascularprevention-1.jpg\", \"rb\")\n",
    "image = file.read()\n",
    "widgets.Image(\n",
    "    value=image,\n",
    "    format='jpg',\n",
    "    width=600,\n",
    "    height=500,\n",
    ")"
   ]
  },
  {
   "cell_type": "markdown",
   "metadata": {
    "extensions": {
     "jupyter_dashboards": {
      "version": 1,
      "views": {
       "default_view": {
        "col": 7,
        "height": 10,
        "row": 21,
        "width": 5
       }
      }
     }
    }
   },
   "source": [
    "## Types of CVD\n",
    "There are 4 main types of CVD\n",
    "1. **Coronary heart disease** \n",
    "    - Coronary heart disease occurs when the flow of oxygen-rich blood to the heart muscle is blocked or reduced.        \n",
    "2. **Strokes and TIAs**\n",
    "    - A stroke is where the blood supply to part of the brain is cut off, which can cause brain damage and possibly death.\n",
    "    - A transient ischaemic attack (also called a TIA or \"mini-stroke\") is similar, but the blood flow to the brain is only temporarily disrupted.\n",
    "3. **Peripheral arterial disease**\n",
    "    - Peripheral arterial disease occurs when there's a blockage in the arteries to the limbs, usually the legs.    \n",
    "4. **Aortic disease**\n",
    "    - Aortic diseases are a group of conditions affecting the aorta. This is the largest blood vessel in the body, which carries blood from the heart to the rest of the body.\n",
    "    - One of most common aortic diseases is an aortic aneurysm, where the aorta becomes weakened and bulges outwards."
   ]
  },
  {
   "cell_type": "markdown",
   "metadata": {
    "extensions": {
     "jupyter_dashboards": {
      "version": 1,
      "views": {
       "default_view": {
        "col": 0,
        "height": 12,
        "row": 31,
        "width": 5
       }
      }
     }
    }
   },
   "source": [
    "## Causes of CVD\n",
    "The exact cause of CVD isn't clear, but there are lots of things that can increase your risk of getting it. These are called \"risk factors\".\n",
    "\n",
    "The more risk factors you have, the greater your chances of developing CVD.\n",
    "\n",
    "The main risk factors for CVD are outlined below.\n",
    "1. High blood pressure\n",
    "    - High blood pressure (hypertension) is one of the most important risk factors for CVD. If your blood pressure is too high, it can damage your blood vessels.\n",
    "2. Smoking\n",
    "    - Smoking and other tobacco use is also a significant risk factor for CVD. The harmful substances in tobacco can damage and narrow your blood vessels.\n",
    "3. High cholesterol\n",
    "    - Cholesterol is a fatty substance found in the blood. If you have high cholesterol, it can cause your blood vessels to narrow and increase your risk of developing a blood clot.\n",
    "4. Inactivity\n",
    "    - If you don't exercise regularly, it's more likely that you'll have high blood pressure, high cholesterol levels and be overweight.\n",
    "    - Exercising regularly will help keep your heart healthy. When combined with a healthy diet, exercise can also help you maintain a healthy weight.    \n",
    "5. Being overweight or obese\n",
    "    - Being overweight or obese increases your risk of developing diabetes and high blood pressure, both of which are risk factors for CVD.\n",
    "    - You're at an increased risk of CVD if:\n",
    "        - your body mass index (BMI) is 25 or above \n",
    "6. Other risk factors\n",
    "    - Other factors that affect your risk of developing CVD include:\n",
    "        - age – CVD is most common in people over 50 and your risk of developing it increases as you get older\n",
    "        - gender – men are more likely to develop CVD at an earlier age than women\n",
    "        - diet – an unhealthy diet can lead to high cholesterol and high blood pressure\n",
    "        - alcohol – excessive alcohol consumption can also increase your cholesterol and blood pressure levels, and contribute to weight gain        \n"
   ]
  },
  {
   "cell_type": "markdown",
   "metadata": {
    "extensions": {
     "jupyter_dashboards": {
      "version": 1,
      "views": {
       "default_view": {
        "col": 7,
        "height": 4,
        "row": 43,
        "width": 5
       }
      }
     }
    }
   },
   "source": [
    "### Calculate your risk of Cardiovascular Disease now!"
   ]
  },
  {
   "cell_type": "code",
   "execution_count": 19,
   "metadata": {
    "extensions": {
     "jupyter_dashboards": {
      "version": 1,
      "views": {
       "default_view": {
        "col": 7,
        "height": 13,
        "row": 47,
        "width": 5
       }
      }
     }
    }
   },
   "outputs": [
    {
     "name": "stdout",
     "output_type": "stream",
     "text": [
      "What is your gender?\n"
     ]
    },
    {
     "data": {
      "application/vnd.jupyter.widget-view+json": {
       "model_id": "6660493f57c54f6ba6396126d66504da",
       "version_major": 2,
       "version_minor": 0
      },
      "text/plain": [
       "RadioButtons(description='Gender', options=('Male', 'Female'), value='Male')"
      ]
     },
     "metadata": {},
     "output_type": "display_data"
    },
    {
     "data": {
      "application/vnd.jupyter.widget-view+json": {
       "model_id": "49d166d710c3415f8f4b709213300b43",
       "version_major": 2,
       "version_minor": 0
      },
      "text/plain": [
       "Text(value='', description='Age:')"
      ]
     },
     "metadata": {},
     "output_type": "display_data"
    },
    {
     "data": {
      "application/vnd.jupyter.widget-view+json": {
       "model_id": "9dea13348d1c4bad810672d2e66db6b0",
       "version_major": 2,
       "version_minor": 0
      },
      "text/plain": [
       "Text(value='', description='Height(m):')"
      ]
     },
     "metadata": {},
     "output_type": "display_data"
    },
    {
     "data": {
      "application/vnd.jupyter.widget-view+json": {
       "model_id": "ac058ca21c7144538c77ffe055638f8b",
       "version_major": 2,
       "version_minor": 0
      },
      "text/plain": [
       "Text(value='', description='Weight(kg):')"
      ]
     },
     "metadata": {},
     "output_type": "display_data"
    },
    {
     "name": "stdout",
     "output_type": "stream",
     "text": [
      "Are you physically active?\n"
     ]
    },
    {
     "data": {
      "application/vnd.jupyter.widget-view+json": {
       "model_id": "10d72c04f78b4241a7d94393642208d2",
       "version_major": 2,
       "version_minor": 0
      },
      "text/plain": [
       "RadioButtons(description='Active', options=('Yes', 'No'), value='Yes')"
      ]
     },
     "metadata": {},
     "output_type": "display_data"
    },
    {
     "name": "stdout",
     "output_type": "stream",
     "text": [
      "Select the following that applies to you\n"
     ]
    },
    {
     "data": {
      "application/vnd.jupyter.widget-view+json": {
       "model_id": "02b88d344a494ab69bca429b9951f077",
       "version_major": 2,
       "version_minor": 0
      },
      "text/plain": [
       "RadioButtons(description='Lifestyle', options=('Smoke', 'Drink', 'Both', 'Neither'), value='Smoke')"
      ]
     },
     "metadata": {},
     "output_type": "display_data"
    }
   ],
   "source": [
    "print('What is your gender?')\n",
    "radio_gender = widgets.RadioButtons(\n",
    " options=['Male', 'Female'],\n",
    " description='Gender'\n",
    " )\n",
    "display(radio_gender)\n",
    "\n",
    "age = widgets.Text(\n",
    " value='',\n",
    " description='Age:'\n",
    " )\n",
    "display(age)\n",
    "\n",
    "height = widgets.Text(\n",
    " value='',\n",
    " description='Height(m):'\n",
    " )\n",
    "display(height)\n",
    "\n",
    "weight = widgets.Text(\n",
    " value='',\n",
    " description='Weight(kg):'\n",
    " )\n",
    "display(weight)\n",
    "\n",
    "print('Are you physically active?')\n",
    "\n",
    "radio_active = widgets.RadioButtons(\n",
    " options=['Yes', 'No'],\n",
    " description='Active'\n",
    " )\n",
    "display(radio_active)\n",
    "\n",
    "print('Select the following that applies to you')\n",
    "\n",
    "radio_lifestyle = widgets.RadioButtons(\n",
    " options=['Smoke', 'Drink', 'Both', 'Neither'],\n",
    " description='Lifestyle'\n",
    " )\n",
    "display(radio_lifestyle)"
   ]
  },
  {
   "cell_type": "code",
   "execution_count": 20,
   "metadata": {
    "extensions": {
     "jupyter_dashboards": {
      "version": 1,
      "views": {
       "default_view": {
        "col": 7,
        "height": 4,
        "row": 60,
        "width": 5
       }
      }
     }
    }
   },
   "outputs": [
    {
     "data": {
      "application/vnd.jupyter.widget-view+json": {
       "model_id": "ef8b7503529f43229bd8e8a7882121a5",
       "version_major": 2,
       "version_minor": 0
      },
      "text/plain": [
       "VBox(children=(Button(description='Submit', style=ButtonStyle()), Output()))"
      ]
     },
     "metadata": {},
     "output_type": "display_data"
    }
   ],
   "source": [
    "button = widgets.Button(description='Submit')\n",
    "out = widgets.Output()\n",
    "\n",
    "def on_button_clicked(_):\n",
    "      # \"linking function with output\"\n",
    "      with out:\n",
    "          # what happens when we press the button\n",
    "       #try:      \n",
    "          clear_output()\n",
    "          bmi = float(weight.value)/float(height.value)**2\n",
    "          print('Your BMI is: {0}'.format(str(bmi)))  \n",
    "          age1 = float(age.value)      \n",
    "          if (radio_gender.value == 'Female') and (radio_lifestyle.value == 'Both') and (radio_active.value == 'Yes'):\n",
    "                if(bmi <= 26.195 and age1 <= 50.036):\n",
    "                    print('Your risk of Cardiovascular Disease is: 51.6%')\n",
    "                elif(bmi >= 26.195 and age1 <=56.937 ):\n",
    "                    print('Your risk of Cardiovascular Disease is: 50.5% ')\n",
    "                else:\n",
    "                    print('Your risk of Cardiovascular Disease is: 50%')\n",
    "          elif (radio_gender.value == 'Female') and (radio_lifestyle.value == 'Both') and (radio_active.value == 'No'):\n",
    "                if(bmi <= 34.978 and age1 <= 52.522):\n",
    "                    print('Your risk of Cardiovascular Disease is: 58%')\n",
    "                elif(bmi >= 34.978 and age1 <= 57.619):\n",
    "                    print('Your risk of Cardiovascular Disease is: 19.8%')\n",
    "                else:\n",
    "                    print('Your risk of Cardiovascular Disease is: 37.5%')   \n",
    "          elif (radio_gender.value == 'Female') and (radio_lifestyle.value == 'Smoke') and (radio_active.value == 'Yes'):\n",
    "                if(bmi <= 24.912 and age1 <= 58.381):\n",
    "                    print('Your risk of Cardiovascular Disease is: 62.7% ')\n",
    "                elif(bmi >=24.912 and age1 <=53.456):\n",
    "                    print('Your risk of Cardiovascular Disease is: 49.1%')\n",
    "                else:\n",
    "                    print('your risk of Cardiovascular Disease is: 51.4%')\n",
    "          elif (radio_gender.value == 'Female') and (radio_lifestyle.value == 'Smoke') and (radio_active.value == 'No'):\n",
    "                if(bmi >= 23.147 and age1 <= 60.644):\n",
    "                    print('Your risk of Cardiovascular Disease is: 43.3%')\n",
    "                elif(bmi <= 26.271 and age1 <=60.644):\n",
    "                    print('Your risk of Cardiovascular Disease is: 48%')\n",
    "                else:\n",
    "                    print('your risk of Cardiovascular Disease is: 85.8%')\n",
    "          elif (radio_gender.value == 'Female') and (radio_lifestyle.value == 'Drink') and (radio_active.value == 'Yes'):\n",
    "                if(bmi <= 23.559 and age1 >= 50.233):\n",
    "                    print('Your risk of Cardiovascular Disease is: 47.2%')\n",
    "                elif(bmi <= 23.935 and age1 >= 50.233):\n",
    "                    print('Your risk of Cardiovascular Disease is: 46.2%')\n",
    "                else:\n",
    "                    print('your risk of Cardiovascular Disease is: 49.8%')\n",
    "          elif (radio_gender.value == 'Female') and (radio_lifestyle.value == 'Drink') and (radio_active.value == 'No'):\n",
    "                if(bmi <= 31.892 and age1 <= 59.742):\n",
    "                    print('Your risk of Cardiovascular Disease is: 54.4%')\n",
    "                elif(bmi <= 29.972 and age1 <= 59.742):\n",
    "                    print('Your risk of Cardiovascular Disease is: 58.6 %')\n",
    "                else:\n",
    "                    print('your risk of Cardiovascular Disease is: 42.2%')\n",
    "          elif (radio_gender.value == 'Female') and (radio_lifestyle.value == 'Neither') and (radio_active.value == 'Yes'):\n",
    "                if(bmi <= 31.225 and age1 <= 54.919):\n",
    "                    print('Your risk of Cardiovascular Disease is: 53%')\n",
    "                elif(bmi >= 31.225 and age1 <= 44.667):\n",
    "                    print('Your risk of Cardiovascular Disease is: 0.547%')\n",
    "                else:\n",
    "                    print('your risk of Cardiovascular Disease is: 47.8%')\n",
    "          elif (radio_gender.value == 'Female') and (radio_lifestyle.value == 'Neither') and (radio_active.value == 'No'):\n",
    "                if(bmi <= 27.761 and age1 <= 52.147):\n",
    "                    print('Your risk of Cardiovascular Disease is: 52.5%')\n",
    "                elif(bmi >= 27.761 and age1 <= 43.162):\n",
    "                    print('Your risk of Cardiovascular Disease is: 49.9%')\n",
    "                else:\n",
    "                    print('your risk of Cardiovascular Disease is: 47.5%')\n",
    "          \n",
    "          if (radio_gender.value == 'Male') and (radio_lifestyle.value == 'Both') and (radio_active.value == 'Yes'):\n",
    "                if(bmi <= 26.021 and age1 <= 39.742):\n",
    "                    print('Your risk of Cardiovascular Disease is: 64.5%')\n",
    "                elif(bmi <= 26.021 and age1 <=63.633 ):\n",
    "                    print('Your risk of Cardiovascular Disease is: 50.2% ')\n",
    "                else:\n",
    "                    print('Your risk of Cardiovascular Disease is: 32%')\n",
    "          elif (radio_gender.value == 'Male') and (radio_lifestyle.value == 'Both') and (radio_active.value == 'No'):\n",
    "                if(bmi <= 35.499 and age1 <= 57.504):\n",
    "                    print('Your risk of Cardiovascular Disease is: 50.3%')\n",
    "                elif(bmi >= 35.499 and age1 <= 57.504):\n",
    "                    print('Your risk of Cardiovascular Disease is: 43.7%')\n",
    "                else:\n",
    "                    print('Your risk of Cardiovascular Disease is: 45.3%')   \n",
    "          elif (radio_gender.value == 'Male') and (radio_lifestyle.value == 'Smoke') and (radio_active.value == 'Yes'):\n",
    "                if(bmi <= 24.806 and age1 <= 40.537):\n",
    "                    print('Your risk of Cardiovascular Disease is: 58.9% ')\n",
    "                elif(bmi <=23.021 and age1 >=55.515):\n",
    "                    print('Your risk of Cardiovascular Disease is: 41.7%')\n",
    "                else:\n",
    "                    print('your risk of Cardiovascular Disease is: 48.9%')\n",
    "          elif (radio_gender.value == 'Male') and (radio_lifestyle.value == 'Smoke') and (radio_active.value == 'No'):\n",
    "                if(bmi <= 23.559 and age1 <= 31.861):\n",
    "                    print('Your risk of Cardiovascular Disease is: 42.7%')\n",
    "                elif(bmi <= 21.295 and age1 >=56.236):\n",
    "                    print('Your risk of Cardiovascular Disease is: 48.3%')\n",
    "                else:\n",
    "                    print('your risk of Cardiovascular Disease is: 34.4%')\n",
    "          elif (radio_gender.value == 'Male') and (radio_lifestyle.value == 'Drink') and (radio_active.value == 'Yes'):\n",
    "                if(bmi <= 25.806 and age1 <= 41.818):\n",
    "                    print('Your risk of Cardiovascular Disease is: 63.5%')\n",
    "                elif(bmi >= 28.806 and age1 >= 64.159):\n",
    "                    print('Your risk of Cardiovascular Disease is: 51%')\n",
    "                else:\n",
    "                    print('your risk of Cardiovascular Disease is: 53.2%')\n",
    "          elif (radio_gender.value == 'Male') and (radio_lifestyle.value == 'Drink') and (radio_active.value == 'No'):\n",
    "                if(bmi <= 26.804):\n",
    "                    print('Your risk of Cardiovascular Disease is: 47.7%')\n",
    "                elif(bmi >= 29.757 and age1 >= 47.664):\n",
    "                    print('Your risk of Cardiovascular Disease is: 34.6%')\n",
    "                else:\n",
    "                    print('your risk of Cardiovascular Disease is: 46.4%')\n",
    "          elif (radio_gender.value == 'Male') and (radio_lifestyle.value == 'Neither') and (radio_active.value == 'Yes'):\n",
    "                if(bmi <= 27.474 and age1 <= 43.785):\n",
    "                    print('Your risk of Cardiovascular Disease is: 32.9%')\n",
    "                elif(bmi >= 32.56 and age1 >= 53.323):\n",
    "                    print('Your risk of Cardiovascular Disease is: 39.6%')\n",
    "                else:\n",
    "                    print('your risk of Cardiovascular Disease is: 50%')\n",
    "          elif (radio_gender.value == 'Male') and (radio_lifestyle.value == 'Neither') and (radio_active.value == 'No'):\n",
    "                if(bmi <= 29.4111 and age1 >= 43.985):\n",
    "                    print('Your risk of Cardiovascular Disease is: 50.2%')\n",
    "                elif(bmi >= 28.715 and age1 <= 62.096):\n",
    "                    print('Your risk of Cardiovascular Disease is: 40%')\n",
    "                else:\n",
    "                    print('your risk of Cardiovascular Disease is: 44.2%')\n",
    "       #except:\n",
    "       # print('Please input integer values only')\n",
    "          \n",
    "# linking button and function together using a button's method\n",
    "button.on_click(on_button_clicked)\n",
    "# displaying button and its output together\n",
    "widgets.VBox([button,out])"
   ]
  },
  {
   "cell_type": "code",
   "execution_count": 21,
   "metadata": {
    "extensions": {
     "jupyter_dashboards": {
      "version": 1,
      "views": {
       "default_view": {
        "hidden": true
       }
      }
     }
    }
   },
   "outputs": [],
   "source": [
    "!pip freeze > requirements.txt"
   ]
  },
  {
   "cell_type": "code",
   "execution_count": null,
   "metadata": {
    "extensions": {
     "jupyter_dashboards": {
      "version": 1,
      "views": {
       "default_view": {
        "hidden": true
       }
      }
     }
    }
   },
   "outputs": [],
   "source": []
  }
 ],
 "metadata": {
  "celltoolbar": "Edit Metadata",
  "extensions": {
   "jupyter_dashboards": {
    "activeView": "default_view",
    "version": 1,
    "views": {
     "default_view": {
      "cellMargin": 10,
      "defaultCellHeight": 40,
      "maxColumns": 12,
      "name": "active_view",
      "type": "grid"
     }
    }
   }
  },
  "kernelspec": {
   "display_name": "Python 3",
   "language": "python",
   "name": "python3"
  },
  "language_info": {
   "codemirror_mode": {
    "name": "ipython",
    "version": 3
   },
   "file_extension": ".py",
   "mimetype": "text/x-python",
   "name": "python",
   "nbconvert_exporter": "python",
   "pygments_lexer": "ipython3",
   "version": "3.8.5"
  }
 },
 "nbformat": 4,
 "nbformat_minor": 4
}
